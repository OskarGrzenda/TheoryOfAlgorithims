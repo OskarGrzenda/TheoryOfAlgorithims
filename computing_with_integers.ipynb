{
 "cells": [
  {
   "cell_type": "markdown",
   "id": "0bfd28e5-5f4f-458d-a77e-0fbf264f2957",
   "metadata": {},
   "source": [
    "## Computing with the Integers\n",
    "***"
   ]
  },
  {
   "cell_type": "code",
   "execution_count": 1,
   "id": "33666185-70eb-45f6-b6a9-2c7adcb8b92b",
   "metadata": {},
   "outputs": [],
   "source": [
    "def double(i):\n",
    "    return 2 * i"
   ]
  },
  {
   "cell_type": "code",
   "execution_count": 2,
   "id": "d6de172a-bbe6-42da-a712-5fb4d8f42da2",
   "metadata": {},
   "outputs": [],
   "source": [
    "eg_list_of_inputs = [-9, -8, -7, -6, -5, -4, -3, -2, -1, 0, 1, 2, 3, 4, 5, 6, 7, 8, 9]\n"
   ]
  },
  {
   "cell_type": "code",
   "execution_count": 3,
   "id": "4239e7fe-574d-4189-9e98-f478d7471f6d",
   "metadata": {},
   "outputs": [
    {
     "data": {
      "text/plain": [
       "[-18, -16, -14, -12, -10, -8, -6, -4, -2, 0, 2, 4, 6, 8, 10, 12, 14, 16, 18]"
      ]
     },
     "execution_count": 3,
     "metadata": {},
     "output_type": "execute_result"
    }
   ],
   "source": [
    "eg_list_of_outputs = list(map(double, eg_list_of_inputs))\n",
    "eg_list_of_outputs"
   ]
  },
  {
   "cell_type": "code",
   "execution_count": 4,
   "id": "08d3546d-0ce0-40ea-b19f-c34c8317c1aa",
   "metadata": {},
   "outputs": [
    {
     "name": "stdout",
     "output_type": "stream",
     "text": [
      " -9 ->  -18\n",
      " -8 ->  -16\n",
      " -7 ->  -14\n",
      " -6 ->  -12\n",
      " -5 ->  -10\n",
      " -4 ->   -8\n",
      " -3 ->   -6\n",
      " -2 ->   -4\n",
      " -1 ->   -2\n",
      "  0 ->    0\n",
      "  1 ->    2\n",
      "  2 ->    4\n",
      "  3 ->    6\n",
      "  4 ->    8\n",
      "  5 ->   10\n",
      "  6 ->   12\n",
      "  7 ->   14\n",
      "  8 ->   16\n",
      "  9 ->   18\n"
     ]
    }
   ],
   "source": [
    "for i in range(-9, 10):\n",
    "    print(f'{i:3} ->  {double(i):3}')"
   ]
  },
  {
   "cell_type": "markdown",
   "id": "2710f6a8-643f-42ed-99a5-e54acfea6ee0",
   "metadata": {},
   "source": [
    "<br>\n",
    "\n",
    "$ f: \\mathbb{Z} \\rightarrow 2 \\mathbb{Z}$\n",
    "\n",
    "$ \\mathbb{Z} = \\{ \\ldots, -2, -1, 0, 1, 2 \\ldots \\}$\n",
    "\n",
    "$ 2 \\mathbb{Z} = \\{ \\ldots, -2, 0, 2, \\ldots \\}$\n",
    "\n",
    "$ 2 \\mathbb{Z} \\subset \\mathbb{Z} $\n",
    "\n",
    "$ | \\mathbb{Z} | $ is $\\aleph_0 $\n",
    "\n",
    "<br>"
   ]
  },
  {
   "cell_type": "markdown",
   "id": "9602a50d-7f0e-4047-aed6-da4f55a9b742",
   "metadata": {},
   "source": [
    "## The Integers and the Reals\n",
    "***"
   ]
  },
  {
   "cell_type": "markdown",
   "id": "7c06bac0-4155-42e8-8e23-90db32f1c089",
   "metadata": {},
   "source": [
    "$\\mathbb{N}_0 = \\{0, 1, 2, 3, \\ldots \\}$\n",
    "\n",
    "$|\\mathbb{N}_0|$ is $\\aleph_0$\n",
    "\n",
    "$0 \\rightarrow 0$\n",
    "\n",
    "$1 \\rightarrow -1$\n",
    "\n",
    "$2 \\rightarrow 1$\n",
    "\n",
    "$3 \\rightarrow -2$\n",
    "\n",
    "$4 \\rightarrow 2$\n",
    "\n",
    "$\\ldots$\n"
   ]
  },
  {
   "cell_type": "code",
   "execution_count": 5,
   "id": "99976fea-9c54-4292-a615-0f413b4f211d",
   "metadata": {},
   "outputs": [
    {
     "name": "stdout",
     "output_type": "stream",
     "text": [
      " 0 -> 0.20018042876837183197...\n",
      " 1 -> 0.52128217661819042927...\n",
      " 2 -> 0.65140998334183686236...\n",
      " 3 -> 0.49984834317370874235...\n",
      " 4 -> 0.71515235964663326218...\n",
      " 5 -> 0.13480584575623666410...\n",
      " 6 -> 0.54051465018530164830...\n",
      " 7 -> 0.57422208230690052755...\n",
      " 8 -> 0.01003284073786958608...\n",
      " 9 -> 0.82779796694306562177...\n",
      "and so on\n"
     ]
    }
   ],
   "source": [
    "import random\n",
    "\n",
    "for n in range(10):\n",
    "    print(f'{n:2} -> {random.random():0.20f}...')\n",
    "print('and so on')"
   ]
  },
  {
   "cell_type": "code",
   "execution_count": 7,
   "id": "7307c87f-d87c-4d27-9256-ebeaace2e2f7",
   "metadata": {},
   "outputs": [],
   "source": [
    "#0.0663927917..."
   ]
  },
  {
   "cell_type": "markdown",
   "id": "68c9f1ca-118b-432a-807a-a03d62b9ca78",
   "metadata": {},
   "source": [
    " $\\mathbb{N}_0 = \\{0, 1, 2, 3, \\ldots \\}$\n",
    " \n",
    " $\\mathbf{P}(\\mathbb{N}_0) = \\{ \\{\\}, \\{0\\}, \\{1\\}, \\{2\\}, \\{3\\}, \\ldots \\{0,1\\} \\ldots \\}$\n",
    " \n",
    " $|\\mathbf{P}(\\mathbb{N}_0)|$ is $\\aleph_1$"
   ]
  }
 ],
 "metadata": {
  "kernelspec": {
   "display_name": "Python 3 (ipykernel)",
   "language": "python",
   "name": "python3"
  },
  "language_info": {
   "codemirror_mode": {
    "name": "ipython",
    "version": 3
   },
   "file_extension": ".py",
   "mimetype": "text/x-python",
   "name": "python",
   "nbconvert_exporter": "python",
   "pygments_lexer": "ipython3",
   "version": "3.8.12"
  }
 },
 "nbformat": 4,
 "nbformat_minor": 5
}
