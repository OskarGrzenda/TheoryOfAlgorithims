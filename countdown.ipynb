{
 "cells": [
  {
   "cell_type": "markdown",
   "id": "b994609d-4e56-436f-9d64-5fac1c99a04c",
   "metadata": {},
   "source": [
    "# Playing around with itertools\n",
    "\n",
    "***"
   ]
  },
  {
   "cell_type": "markdown",
   "id": "7b447449-18dc-4c62-8258-fe63ec09701e",
   "metadata": {},
   "source": [
    "## Real Python\n",
    "https://realpython.com/python-itertools/\n",
    "\n",
    "How many ways are there to make change for a 100 dollar bill using any number of 50, 20, 10, 5, and 1 dollar bills?"
   ]
  },
  {
   "cell_type": "code",
   "execution_count": 1,
   "id": "07278f0f-3cff-44b6-ac22-a381b6e98dc0",
   "metadata": {},
   "outputs": [],
   "source": [
    "import itertools as it"
   ]
  },
  {
   "cell_type": "code",
   "execution_count": 2,
   "id": "2d4050a4-1e65-4200-91ee-ec245beb9d7e",
   "metadata": {},
   "outputs": [
    {
     "data": {
      "text/plain": [
       "[(1, 1), (1, 2), (2, 2)]"
      ]
     },
     "execution_count": 2,
     "metadata": {},
     "output_type": "execute_result"
    }
   ],
   "source": [
    "# combinations_with_replacement() allows elements to be repeated in the tuples it returns\n",
    "list(it.combinations_with_replacement([1, 2], 2))\n"
   ]
  },
  {
   "cell_type": "code",
   "execution_count": 3,
   "id": "92abc70e-7480-49aa-b034-8e0d5f6f7e2f",
   "metadata": {},
   "outputs": [
    {
     "data": {
      "text/plain": [
       "[(1, 2)]"
      ]
     },
     "execution_count": 3,
     "metadata": {},
     "output_type": "execute_result"
    }
   ],
   "source": [
    "# Compare that to combinations():\n",
    "list(it.combinations([1, 2], 2))\n"
   ]
  },
  {
   "cell_type": "code",
   "execution_count": 4,
   "id": "dc03d3cd-a02e-446d-82d3-df5cfd157aec",
   "metadata": {},
   "outputs": [],
   "source": [
    "# # combinations_with_replacement() prevents duplicates so you don't have to remove them\n",
    "# # The solution below will take quite some time to run as it has to process 96,560,645 combinations\n",
    "# bills = [50, 20, 10, 5, 1]\n",
    "# makes_100 = []\n",
    "# for n in range(1, 101):\n",
    "#     for combination in it.combinations_with_replacement(bills, n):\n",
    "#         if sum(combination) == 100:\n",
    "#             makes_100.append(combination)"
   ]
  },
  {
   "cell_type": "code",
   "execution_count": 5,
   "id": "5c50d86d-82f2-405c-a1d9-cd329ee3a459",
   "metadata": {},
   "outputs": [],
   "source": [
    "# len(makes_100)"
   ]
  },
  {
   "cell_type": "code",
   "execution_count": 6,
   "id": "244a753a-0dc8-4f18-b510-43877fc63c6a",
   "metadata": {},
   "outputs": [
    {
     "data": {
      "text/plain": [
       "[('a', 'b', 'c'),\n",
       " ('a', 'c', 'b'),\n",
       " ('b', 'a', 'c'),\n",
       " ('b', 'c', 'a'),\n",
       " ('c', 'a', 'b'),\n",
       " ('c', 'b', 'a')]"
      ]
     },
     "execution_count": 6,
     "metadata": {},
     "output_type": "execute_result"
    }
   ],
   "source": [
    "# permutations() is an example of another \"brute force\" itertools function\n",
    "# Which produces all possible permutations (rearrangements) of its elements\n",
    "# Any iterable of three elements will have six permutations\n",
    "# An iterable of n has n! permutations\n",
    "# e.g n! = nx(n-1) x (n-2) x ... x 2 x 1\n",
    "list(it.permutations(['a', 'b', 'c']))\n"
   ]
  },
  {
   "cell_type": "markdown",
   "id": "8f511ade-3afa-4958-bcbb-6aad0e4e2e36",
   "metadata": {},
   "source": [
    "### Countdown Number\n",
    "***"
   ]
  },
  {
   "cell_type": "code",
   "execution_count": 7,
   "id": "c2169516-db5d-4f5c-8b9c-5cea92591ea5",
   "metadata": {},
   "outputs": [],
   "source": [
    "# Permutations and combinations.\n",
    "import itertools as it"
   ]
  },
  {
   "cell_type": "code",
   "execution_count": 8,
   "id": "2c363ed2-bcc8-4e1e-bf29-16a15afcf9fd",
   "metadata": {},
   "outputs": [],
   "source": [
    "# Random number generation.\n",
    "import random"
   ]
  },
  {
   "cell_type": "code",
   "execution_count": 9,
   "id": "bdff6bcc-9c6a-4b2a-9ea0-4b4e95f2b87f",
   "metadata": {},
   "outputs": [],
   "source": [
    "# Operators as functions.\n",
    "import operator"
   ]
  },
  {
   "cell_type": "markdown",
   "id": "c75d6ec1-27d7-456b-ab15-133e650c8963",
   "metadata": {},
   "source": [
    "### Simulate a game\n",
    "***"
   ]
  },
  {
   "cell_type": "code",
   "execution_count": 10,
   "id": "fd2a6221-7b81-4024-8431-4b44bff9b7ec",
   "metadata": {},
   "outputs": [
    {
     "data": {
      "text/plain": [
       "[25, 50, 75, 100]"
      ]
     },
     "execution_count": 10,
     "metadata": {},
     "output_type": "execute_result"
    }
   ],
   "source": [
    "# The large numbers.\n",
    "large = [25, 50, 75, 100]\n",
    "large"
   ]
  },
  {
   "cell_type": "code",
   "execution_count": 11,
   "id": "48cf4a3f-1fac-47eb-9238-fe458edb03d8",
   "metadata": {},
   "outputs": [
    {
     "data": {
      "text/plain": [
       "[1, 2, 3, 4, 5, 6, 7, 8, 9, 10, 1, 2, 3, 4, 5, 6, 7, 8, 9, 10]"
      ]
     },
     "execution_count": 11,
     "metadata": {},
     "output_type": "execute_result"
    }
   ],
   "source": [
    "# The small numbers.\n",
    "small = list(range(1, 11)) * 2\n",
    "small"
   ]
  },
  {
   "cell_type": "code",
   "execution_count": 12,
   "id": "261984a0-73d7-4b1b-9f72-957d68148993",
   "metadata": {},
   "outputs": [
    {
     "data": {
      "text/plain": [
       "0"
      ]
     },
     "execution_count": 12,
     "metadata": {},
     "output_type": "execute_result"
    }
   ],
   "source": [
    "# The number of large numbers to pick - between 0 and 4 inclusive.\n",
    "no_large = random.randrange(0, 5)\n",
    "no_large"
   ]
  },
  {
   "cell_type": "code",
   "execution_count": 13,
   "id": "6c32cc23-34da-4f17-a474-a8526a1e2039",
   "metadata": {},
   "outputs": [
    {
     "data": {
      "text/plain": [
       "[]"
      ]
     },
     "execution_count": 13,
     "metadata": {},
     "output_type": "execute_result"
    }
   ],
   "source": [
    "# Select no_large large numbers at random.\n",
    "large_rand = random.sample(large, no_large)\n",
    "large_rand"
   ]
  },
  {
   "cell_type": "code",
   "execution_count": 14,
   "id": "0268c66f-0981-490e-a4ec-cbf283fa363b",
   "metadata": {},
   "outputs": [
    {
     "data": {
      "text/plain": [
       "[7, 9, 2, 2, 6, 5]"
      ]
     },
     "execution_count": 14,
     "metadata": {},
     "output_type": "execute_result"
    }
   ],
   "source": [
    "# Select (6 - no_large) small numbers at random.\n",
    "small_rand = random.sample(small, 6 - no_large)\n",
    "small_rand"
   ]
  },
  {
   "cell_type": "code",
   "execution_count": 15,
   "id": "58cedd75-61f6-4aba-a835-62736b5b31ad",
   "metadata": {},
   "outputs": [
    {
     "data": {
      "text/plain": [
       "[7, 9, 2, 2, 6, 5]"
      ]
     },
     "execution_count": 15,
     "metadata": {},
     "output_type": "execute_result"
    }
   ],
   "source": [
    "# The six random numbers in a list.\n",
    "play_nos = large_rand + small_rand\n",
    "play_nos"
   ]
  },
  {
   "cell_type": "code",
   "execution_count": 16,
   "id": "df01e484-63c4-4615-9775-52c73cc2a9a0",
   "metadata": {},
   "outputs": [
    {
     "data": {
      "text/plain": [
       "978"
      ]
     },
     "execution_count": 16,
     "metadata": {},
     "output_type": "execute_result"
    }
   ],
   "source": [
    "# Pick a random target number.\n",
    "target = random.randrange(101, 1000)\n",
    "target"
   ]
  },
  {
   "cell_type": "code",
   "execution_count": 17,
   "id": "06e65535-8efe-4d09-b256-1e4656e7ec8a",
   "metadata": {},
   "outputs": [],
   "source": [
    "# For random nubmers and samples.\n",
    "import random\n",
    "\n",
    "\n",
    "def new_numbers_game(no_large=None):\n",
    "  \"\"\" Returns six numbers and a target number representing a Countdown numbers game.\n",
    "  \"\"\"\n",
    "  # If no_large in None, randomly pick value between 0 and 4 inclusive.\n",
    "  if no_large is None:\n",
    "    # Randomly set the value.\n",
    "    no_large = random.randrange(0, 5)\n",
    "  \n",
    "  # Select random large numbers.\n",
    "  large_rand = random.sample([25, 50, 75, 100], no_large)\n",
    "  # Select random small numbers.\n",
    "  small_rand = random.sample(list(range(1, 11)) * 2, 6 - no_large)\n",
    "  # The playing numbers.\n",
    "  play_nos = large_rand + small_rand\n",
    "\n",
    "  # Select a target number.\n",
    "  target = random.randrange(101, 1000)\n",
    "\n",
    "  # Return the game.\n",
    "  return play_nos, target"
   ]
  },
  {
   "cell_type": "code",
   "execution_count": 18,
   "id": "ed2fe74d-ccf5-42bb-80d7-9445187fae44",
   "metadata": {},
   "outputs": [
    {
     "data": {
      "text/plain": [
       "([100, 25, 4, 1, 2, 9], 781)"
      ]
     },
     "execution_count": 18,
     "metadata": {},
     "output_type": "execute_result"
    }
   ],
   "source": [
    "# Random nubmers game.\n",
    "new_numbers_game()"
   ]
  },
  {
   "cell_type": "markdown",
   "id": "63afe9ac-0de8-4f08-a1ce-82799c2e2a51",
   "metadata": {},
   "source": [
    "### Working towards a Solution\n",
    "***"
   ]
  },
  {
   "cell_type": "code",
   "execution_count": 19,
   "id": "65efa8a2-212e-4d01-9c20-fd7cdd919a63",
   "metadata": {},
   "outputs": [
    {
     "data": {
      "text/plain": [
       "([25, 100, 50, 75, 1, 7], 700)"
      ]
     },
     "execution_count": 19,
     "metadata": {},
     "output_type": "execute_result"
    }
   ],
   "source": [
    "# A new example game.\n",
    "play_nos, target = new_numbers_game()\n",
    "play_nos, target"
   ]
  },
  {
   "cell_type": "code",
   "execution_count": 20,
   "id": "639fb861-f11d-4fbb-bd9a-1960300f822f",
   "metadata": {},
   "outputs": [
    {
     "name": "stdout",
     "output_type": "stream",
     "text": [
      "(25, 100)\n",
      "25 + 100 = 125\n",
      "25 * 100 = 2500\n",
      "\n",
      "(25, 50)\n",
      "25 + 50 = 75\n",
      "25 * 50 = 1250\n",
      "\n",
      "(25, 75)\n",
      "25 + 75 = 100\n",
      "25 * 75 = 1875\n",
      "\n",
      "(25, 1)\n",
      "25 + 1 = 26\n",
      "25 * 1 = 25\n",
      "25 - 1 = 24\n",
      "25 / 1 = 25\n",
      "\n",
      "(25, 7)\n",
      "25 + 7 = 32\n",
      "25 * 7 = 175\n",
      "25 - 7 = 18\n",
      "\n",
      "(100, 25)\n",
      "100 + 25 = 125\n",
      "100 * 25 = 2500\n",
      "100 - 25 = 75\n",
      "100 / 25 = 4\n",
      "\n",
      "(100, 50)\n",
      "100 + 50 = 150\n",
      "100 * 50 = 5000\n",
      "100 - 50 = 50\n",
      "100 / 50 = 2\n",
      "\n",
      "(100, 75)\n",
      "100 + 75 = 175\n",
      "100 * 75 = 7500\n",
      "100 - 75 = 25\n",
      "\n",
      "(100, 1)\n",
      "100 + 1 = 101\n",
      "100 * 1 = 100\n",
      "100 - 1 = 99\n",
      "100 / 1 = 100\n",
      "\n",
      "(100, 7)\n",
      "100 + 7 = 107\n",
      "100 * 7 = 700\n",
      "100 - 7 = 93\n",
      "\n",
      "(50, 25)\n",
      "50 + 25 = 75\n",
      "50 * 25 = 1250\n",
      "50 - 25 = 25\n",
      "50 / 25 = 2\n",
      "\n",
      "(50, 100)\n",
      "50 + 100 = 150\n",
      "50 * 100 = 5000\n",
      "\n",
      "(50, 75)\n",
      "50 + 75 = 125\n",
      "50 * 75 = 3750\n",
      "\n",
      "(50, 1)\n",
      "50 + 1 = 51\n",
      "50 * 1 = 50\n",
      "50 - 1 = 49\n",
      "50 / 1 = 50\n",
      "\n",
      "(50, 7)\n",
      "50 + 7 = 57\n",
      "50 * 7 = 350\n",
      "50 - 7 = 43\n",
      "\n",
      "(75, 25)\n",
      "75 + 25 = 100\n",
      "75 * 25 = 1875\n",
      "75 - 25 = 50\n",
      "75 / 25 = 3\n",
      "\n",
      "(75, 100)\n",
      "75 + 100 = 175\n",
      "75 * 100 = 7500\n",
      "\n",
      "(75, 50)\n",
      "75 + 50 = 125\n",
      "75 * 50 = 3750\n",
      "75 - 50 = 25\n",
      "\n",
      "(75, 1)\n",
      "75 + 1 = 76\n",
      "75 * 1 = 75\n",
      "75 - 1 = 74\n",
      "75 / 1 = 75\n",
      "\n",
      "(75, 7)\n",
      "75 + 7 = 82\n",
      "75 * 7 = 525\n",
      "75 - 7 = 68\n",
      "\n",
      "(1, 25)\n",
      "1 + 25 = 26\n",
      "1 * 25 = 25\n",
      "\n",
      "(1, 100)\n",
      "1 + 100 = 101\n",
      "1 * 100 = 100\n",
      "\n",
      "(1, 50)\n",
      "1 + 50 = 51\n",
      "1 * 50 = 50\n",
      "\n",
      "(1, 75)\n",
      "1 + 75 = 76\n",
      "1 * 75 = 75\n",
      "\n",
      "(1, 7)\n",
      "1 + 7 = 8\n",
      "1 * 7 = 7\n",
      "\n",
      "(7, 25)\n",
      "7 + 25 = 32\n",
      "7 * 25 = 175\n",
      "\n",
      "(7, 100)\n",
      "7 + 100 = 107\n",
      "7 * 100 = 700\n",
      "\n",
      "(7, 50)\n",
      "7 + 50 = 57\n",
      "7 * 50 = 350\n",
      "\n",
      "(7, 75)\n",
      "7 + 75 = 82\n",
      "7 * 75 = 525\n",
      "\n",
      "(7, 1)\n",
      "7 + 1 = 8\n",
      "7 * 1 = 7\n",
      "7 - 1 = 6\n",
      "7 / 1 = 7\n",
      "\n"
     ]
    }
   ],
   "source": [
    "# Looping through all permutations of two playing numbers.\n",
    "for p in it.permutations(play_nos, 2):\n",
    "  # Print the two numbers.\n",
    "  print(p)\n",
    "  # Print their sum.\n",
    "  print(f'{p[0]} + {p[1]} = {p[0]+p[1]}')\n",
    "  # Print their product.\n",
    "  print(f'{p[0]} * {p[1]} = {p[0]*p[1]}')\n",
    "  # Print their difference if it is positive.\n",
    "  if p[0] - p[1] > 0:\n",
    "    print(f'{p[0]} - {p[1]} = {p[0]-p[1]}')\n",
    "  # Print their quotient if it is an integer.\n",
    "  if p[0] % p[1] == 0:\n",
    "    print(f'{p[0]} / {p[1]} = {p[0]//p[1]}')\n",
    "  # Print a blank line.\n",
    "  print()"
   ]
  },
  {
   "cell_type": "code",
   "execution_count": null,
   "id": "e0473e86-2d6f-43b4-bfdf-ed63729b5971",
   "metadata": {},
   "outputs": [],
   "source": []
  }
 ],
 "metadata": {
  "kernelspec": {
   "display_name": "Python 3 (ipykernel)",
   "language": "python",
   "name": "python3"
  },
  "language_info": {
   "codemirror_mode": {
    "name": "ipython",
    "version": 3
   },
   "file_extension": ".py",
   "mimetype": "text/x-python",
   "name": "python",
   "nbconvert_exporter": "python",
   "pygments_lexer": "ipython3",
   "version": "3.8.12"
  }
 },
 "nbformat": 4,
 "nbformat_minor": 5
}
