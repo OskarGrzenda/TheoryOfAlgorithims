{
 "cells": [
  {
   "cell_type": "markdown",
   "id": "b994609d-4e56-436f-9d64-5fac1c99a04c",
   "metadata": {},
   "source": [
    "# Playing around with itertools\n",
    "\n",
    "***"
   ]
  },
  {
   "cell_type": "markdown",
   "id": "7b447449-18dc-4c62-8258-fe63ec09701e",
   "metadata": {},
   "source": [
    "## Real Python\n",
    "https://realpython.com/python-itertools/\n",
    "\n",
    "How many ways are there to make change for a 100 dollar bill using any number of 50, 20, 10, 5, and 1 dollar bills?"
   ]
  },
  {
   "cell_type": "code",
   "execution_count": 5,
   "id": "07278f0f-3cff-44b6-ac22-a381b6e98dc0",
   "metadata": {},
   "outputs": [],
   "source": [
    "import itertools as it"
   ]
  },
  {
   "cell_type": "code",
   "execution_count": 18,
   "id": "2d4050a4-1e65-4200-91ee-ec245beb9d7e",
   "metadata": {},
   "outputs": [
    {
     "data": {
      "text/plain": [
       "[(1, 1), (1, 2), (2, 2)]"
      ]
     },
     "execution_count": 18,
     "metadata": {},
     "output_type": "execute_result"
    }
   ],
   "source": [
    "# combinations_with_replacement() allows elements to be repeated in the tuples it returns\n",
    "list(it.combinations_with_replacement([1, 2], 2))\n"
   ]
  },
  {
   "cell_type": "code",
   "execution_count": 19,
   "id": "92abc70e-7480-49aa-b034-8e0d5f6f7e2f",
   "metadata": {},
   "outputs": [
    {
     "data": {
      "text/plain": [
       "[(1, 2)]"
      ]
     },
     "execution_count": 19,
     "metadata": {},
     "output_type": "execute_result"
    }
   ],
   "source": [
    "# Compare that to combinations():\n",
    "list(it.combinations([1, 2], 2))\n"
   ]
  },
  {
   "cell_type": "code",
   "execution_count": 14,
   "id": "dc03d3cd-a02e-446d-82d3-df5cfd157aec",
   "metadata": {},
   "outputs": [],
   "source": [
    "# combinations_with_replacement() prevents duplicates so you don't have to remove them\n",
    "# The solution below will take quite some time to run as it has to process 96,560,645 combinations\n",
    "bills = [50, 20, 10, 5, 1]\n",
    "makes_100 = []\n",
    "for n in range(1, 101):\n",
    "    for combination in it.combinations_with_replacement(bills, n):\n",
    "        if sum(combination) == 100:\n",
    "            makes_100.append(combination)"
   ]
  },
  {
   "cell_type": "code",
   "execution_count": 20,
   "id": "5c50d86d-82f2-405c-a1d9-cd329ee3a459",
   "metadata": {},
   "outputs": [
    {
     "data": {
      "text/plain": [
       "343"
      ]
     },
     "execution_count": 20,
     "metadata": {},
     "output_type": "execute_result"
    }
   ],
   "source": [
    "len(makes_100)"
   ]
  },
  {
   "cell_type": "code",
   "execution_count": 23,
   "id": "244a753a-0dc8-4f18-b510-43877fc63c6a",
   "metadata": {},
   "outputs": [
    {
     "data": {
      "text/plain": [
       "[('a', 'b', 'c'),\n",
       " ('a', 'c', 'b'),\n",
       " ('b', 'a', 'c'),\n",
       " ('b', 'c', 'a'),\n",
       " ('c', 'a', 'b'),\n",
       " ('c', 'b', 'a')]"
      ]
     },
     "execution_count": 23,
     "metadata": {},
     "output_type": "execute_result"
    }
   ],
   "source": [
    "# permutations() is an example of another \"brute force\" itertools function\n",
    "# Which produces all possible permutations (rearrangements) of its elements\n",
    "# Any iterable of three elements will have six permutations\n",
    "# An iterable of n has n! permutations\n",
    "# e.g n! = nx(n-1) x (n-2) x ... x 2 x 1\n",
    "list(it.permutations(['a', 'b', 'c']))\n"
   ]
  },
  {
   "cell_type": "code",
   "execution_count": null,
   "id": "3c16e988-f2da-4974-9dea-2a9adfbbf5f3",
   "metadata": {},
   "outputs": [],
   "source": []
  }
 ],
 "metadata": {
  "kernelspec": {
   "display_name": "Python 3 (ipykernel)",
   "language": "python",
   "name": "python3"
  },
  "language_info": {
   "codemirror_mode": {
    "name": "ipython",
    "version": 3
   },
   "file_extension": ".py",
   "mimetype": "text/x-python",
   "name": "python",
   "nbconvert_exporter": "python",
   "pygments_lexer": "ipython3",
   "version": "3.8.12"
  }
 },
 "nbformat": 4,
 "nbformat_minor": 5
}
