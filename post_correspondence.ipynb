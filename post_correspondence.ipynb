{
 "cells": [
  {
   "cell_type": "markdown",
   "id": "5ed84cf0",
   "metadata": {},
   "source": [
    "### Post Correspondence Problem\n",
    "    \n",
    "https://en.wikipedia.org/wiki/Post_correspondence_problem\n",
    "***"
   ]
  },
  {
   "cell_type": "markdown",
   "id": "28a2b957",
   "metadata": {},
   "source": [
    "The post correspondence problem is an undecidable decision problem that was introduced by Emil Post in 1946.\n",
    "This problem can be described as a type of puzzle and can be explained using a set of dominoes containing two strings. The dominos contains a string at the top and at the bottom."
   ]
  },
  {
   "cell_type": "markdown",
   "id": "bc2356c8",
   "metadata": {},
   "source": [
    "$ \\frac{a}{ab} $"
   ]
  },
  {
   "cell_type": "markdown",
   "id": "42b14b2e",
   "metadata": {},
   "source": [
    "The goal is to create a collecction of dominoes and to check if the top line of strings mathes to the bottom one"
   ]
  },
  {
   "cell_type": "markdown",
   "id": "5b1582c6",
   "metadata": {},
   "source": [
    "Here is an example of a collection that does match\n",
    "\n",
    "$ \\frac{a}{ab} \\frac{b}{ca} \\frac{ca}{a} \\frac{a}{ab} \\frac{abc}{c}$\n",
    "\n",
    "So that means this PCP is decidable"
   ]
  },
  {
   "cell_type": "markdown",
   "id": "bd34dc0c",
   "metadata": {},
   "source": [
    "Here is an example of a collection that does not match\n",
    "\n",
    "$ \\frac{abc}{ab} \\frac{ca}{a} \\frac{acc}{ba} $\n"
   ]
  },
  {
   "cell_type": "markdown",
   "id": "197f2f21",
   "metadata": {},
   "source": [
    "So from the example you can see that in the second collection of dominos the PCP is undecidable"
   ]
  },
  {
   "cell_type": "markdown",
   "id": "533de4ce",
   "metadata": {},
   "source": [
    "## Sets\n",
    "https://docs.python.org/3/tutorial/datastructures.html#sets\n",
    "***"
   ]
  },
  {
   "cell_type": "code",
   "execution_count": 1,
   "id": "25450785",
   "metadata": {},
   "outputs": [],
   "source": [
    "# Alphabet for strings: a set.\n",
    "A = {'a', 'b'}"
   ]
  },
  {
   "cell_type": "code",
   "execution_count": 2,
   "id": "ad3029fc",
   "metadata": {},
   "outputs": [
    {
     "data": {
      "text/plain": [
       "set"
      ]
     },
     "execution_count": 2,
     "metadata": {},
     "output_type": "execute_result"
    }
   ],
   "source": [
    "# Curly braces are often used for sets.\n",
    "type(A)"
   ]
  },
  {
   "cell_type": "code",
   "execution_count": 3,
   "id": "fd31e8c8",
   "metadata": {},
   "outputs": [
    {
     "data": {
      "text/plain": [
       "True"
      ]
     },
     "execution_count": 3,
     "metadata": {},
     "output_type": "execute_result"
    }
   ],
   "source": [
    "# Sets are unordered.\n",
    "{'a', 'b'} == {'b', 'a'}"
   ]
  },
  {
   "cell_type": "code",
   "execution_count": 4,
   "id": "994c816a",
   "metadata": {},
   "outputs": [
    {
     "data": {
      "text/plain": [
       "False"
      ]
     },
     "execution_count": 4,
     "metadata": {},
     "output_type": "execute_result"
    }
   ],
   "source": [
    "# FYI, order does matter for lists.\n",
    "['a', 'b'] == ['b', 'a']"
   ]
  },
  {
   "cell_type": "code",
   "execution_count": 5,
   "id": "f12e5253",
   "metadata": {},
   "outputs": [
    {
     "data": {
      "text/plain": [
       "{1, 2, 3}"
      ]
     },
     "execution_count": 5,
     "metadata": {},
     "output_type": "execute_result"
    }
   ],
   "source": [
    "# Using the set() function to create a set from a list.\n",
    "set([1,2,3])"
   ]
  },
  {
   "cell_type": "code",
   "execution_count": 6,
   "id": "8c26614a",
   "metadata": {},
   "outputs": [
    {
     "data": {
      "text/plain": [
       "{1, 2, 3}"
      ]
     },
     "execution_count": 6,
     "metadata": {},
     "output_type": "execute_result"
    }
   ],
   "source": [
    "# Sets don't keep count.\n",
    "set([3, 2, 2, 1])"
   ]
  },
  {
   "cell_type": "code",
   "execution_count": 7,
   "id": "8a1d70f0",
   "metadata": {},
   "outputs": [
    {
     "data": {
      "text/plain": [
       "True"
      ]
     },
     "execution_count": 7,
     "metadata": {},
     "output_type": "execute_result"
    }
   ],
   "source": [
    "# Test whether or not an item is in the set.\n",
    "1 in {1, 2, 3}"
   ]
  },
  {
   "cell_type": "code",
   "execution_count": 8,
   "id": "ae28141a",
   "metadata": {},
   "outputs": [
    {
     "data": {
      "text/plain": [
       "False"
      ]
     },
     "execution_count": 8,
     "metadata": {},
     "output_type": "execute_result"
    }
   ],
   "source": [
    "'a' in {1, 2, 3}"
   ]
  },
  {
   "cell_type": "markdown",
   "id": "ba9263c7",
   "metadata": {},
   "source": [
    "When a set is defined, it gives rise to a decision problem.\n",
    "\n",
    "The decision problem is: is a given item in the set?"
   ]
  },
  {
   "cell_type": "markdown",
   "id": "cc5aece9",
   "metadata": {},
   "source": [
    "## Tuples\n",
    "https://docs.python.org/3/tutorial/datastructures.html#tuples-and-sequences\n",
    "***"
   ]
  },
  {
   "cell_type": "code",
   "execution_count": 9,
   "id": "88e1e5d7",
   "metadata": {},
   "outputs": [
    {
     "data": {
      "text/plain": [
       "[1, 2, 3]"
      ]
     },
     "execution_count": 9,
     "metadata": {},
     "output_type": "execute_result"
    }
   ],
   "source": [
    "# List.\n",
    "[1,2,3]"
   ]
  },
  {
   "cell_type": "code",
   "execution_count": 10,
   "id": "6f9473df",
   "metadata": {},
   "outputs": [
    {
     "data": {
      "text/plain": [
       "list"
      ]
     },
     "execution_count": 10,
     "metadata": {},
     "output_type": "execute_result"
    }
   ],
   "source": [
    "# List.\n",
    "type([1,2,3])"
   ]
  },
  {
   "cell_type": "code",
   "execution_count": 11,
   "id": "4d21c399",
   "metadata": {},
   "outputs": [
    {
     "data": {
      "text/plain": [
       "(1, 2, 3)"
      ]
     },
     "execution_count": 11,
     "metadata": {},
     "output_type": "execute_result"
    }
   ],
   "source": [
    "# Tuple.\n",
    "(1, 2, 3)"
   ]
  },
  {
   "cell_type": "code",
   "execution_count": 12,
   "id": "7090db62",
   "metadata": {},
   "outputs": [
    {
     "data": {
      "text/plain": [
       "tuple"
      ]
     },
     "execution_count": 12,
     "metadata": {},
     "output_type": "execute_result"
    }
   ],
   "source": [
    "# Tuple.\n",
    "type((1, 2, 3))"
   ]
  },
  {
   "cell_type": "code",
   "execution_count": 13,
   "id": "337904c2",
   "metadata": {},
   "outputs": [],
   "source": [
    "# Create a list.\n",
    "l = [1,2,3]"
   ]
  },
  {
   "cell_type": "code",
   "execution_count": 14,
   "id": "e824ab2f",
   "metadata": {},
   "outputs": [],
   "source": [
    "# Reassign an element.\n",
    "l[1] = 4"
   ]
  },
  {
   "cell_type": "code",
   "execution_count": 15,
   "id": "9905b78c",
   "metadata": {},
   "outputs": [
    {
     "data": {
      "text/plain": [
       "[1, 4, 3]"
      ]
     },
     "execution_count": 15,
     "metadata": {},
     "output_type": "execute_result"
    }
   ],
   "source": [
    "# The element is reassigned.\n",
    "l"
   ]
  },
  {
   "cell_type": "code",
   "execution_count": 16,
   "id": "17ca02ca",
   "metadata": {},
   "outputs": [],
   "source": [
    "# Create a tuple.\n",
    "t = (1, 2, 3)"
   ]
  },
  {
   "cell_type": "code",
   "execution_count": 17,
   "id": "96fde634",
   "metadata": {},
   "outputs": [],
   "source": [
    "# Try to reassign an element.\n",
    "# t[1] = 4\n",
    "# Won't work."
   ]
  },
  {
   "cell_type": "code",
   "execution_count": 18,
   "id": "6a1ff0a4",
   "metadata": {},
   "outputs": [],
   "source": [
    "# Can't hash a list.\n",
    "# hash(l)\n",
    "# Gives an error."
   ]
  },
  {
   "cell_type": "code",
   "execution_count": 19,
   "id": "88dfe1f0",
   "metadata": {},
   "outputs": [
    {
     "data": {
      "text/plain": [
       "529344067295497451"
      ]
     },
     "execution_count": 19,
     "metadata": {},
     "output_type": "execute_result"
    }
   ],
   "source": [
    "# Can hash a tuple.\n",
    "hash(t)"
   ]
  },
  {
   "cell_type": "code",
   "execution_count": 20,
   "id": "29a9387e",
   "metadata": {},
   "outputs": [
    {
     "data": {
      "text/plain": [
       "'0x7589b9fe71bcceb'"
      ]
     },
     "execution_count": 20,
     "metadata": {},
     "output_type": "execute_result"
    }
   ],
   "source": [
    "# Usual output from a hash function is in hex.\n",
    "hex(hash(t))"
   ]
  },
  {
   "cell_type": "code",
   "execution_count": 21,
   "id": "8c593b6d",
   "metadata": {},
   "outputs": [
    {
     "data": {
      "text/plain": [
       "3"
      ]
     },
     "execution_count": 21,
     "metadata": {},
     "output_type": "execute_result"
    }
   ],
   "source": [
    "# You can use tuples as dictionary keys.\n",
    "D = {(1,2,3): 3, (1,2): 2}\n",
    "D[(1,2,3)]"
   ]
  },
  {
   "cell_type": "code",
   "execution_count": 22,
   "id": "4b5a9708",
   "metadata": {},
   "outputs": [],
   "source": [
    "# You can't use lists as dictionary keys.\n",
    "# = {[1,2,3]: 3, [1,2]: 2}"
   ]
  },
  {
   "cell_type": "code",
   "execution_count": 23,
   "id": "518e3fc4",
   "metadata": {},
   "outputs": [],
   "source": [
    "# Tuples can be used for assignment - you don't have to use round brackets.\n",
    "a, b = 1, 2"
   ]
  },
  {
   "cell_type": "code",
   "execution_count": 24,
   "id": "903eedbc",
   "metadata": {},
   "outputs": [
    {
     "data": {
      "text/plain": [
       "1"
      ]
     },
     "execution_count": 24,
     "metadata": {},
     "output_type": "execute_result"
    }
   ],
   "source": [
    "a"
   ]
  },
  {
   "cell_type": "code",
   "execution_count": 25,
   "id": "6fc482de",
   "metadata": {},
   "outputs": [
    {
     "data": {
      "text/plain": [
       "2"
      ]
     },
     "execution_count": 25,
     "metadata": {},
     "output_type": "execute_result"
    }
   ],
   "source": [
    "b"
   ]
  },
  {
   "cell_type": "code",
   "execution_count": 26,
   "id": "a6895166",
   "metadata": {},
   "outputs": [
    {
     "data": {
      "text/plain": [
       "{1, 2, 3}"
      ]
     },
     "execution_count": 26,
     "metadata": {},
     "output_type": "execute_result"
    }
   ],
   "source": [
    "# Some contexts require the round brackets.\n",
    "set((1, 2, 3))"
   ]
  },
  {
   "cell_type": "code",
   "execution_count": 27,
   "id": "eefd6eed",
   "metadata": {},
   "outputs": [
    {
     "data": {
      "text/plain": [
       "{1, 2, 3}"
      ]
     },
     "execution_count": 27,
     "metadata": {},
     "output_type": "execute_result"
    }
   ],
   "source": [
    "# Some contexts require the round brackets.\n",
    "set((1, 2, 3))"
   ]
  },
  {
   "cell_type": "markdown",
   "id": "4e490904",
   "metadata": {},
   "source": [
    "## The Problem\n",
    "\n",
    "***"
   ]
  },
  {
   "cell_type": "code",
   "execution_count": 28,
   "id": "109ee4ee",
   "metadata": {},
   "outputs": [],
   "source": [
    "A = {'a', 'b'}"
   ]
  },
  {
   "cell_type": "code",
   "execution_count": 29,
   "id": "1a04aecc",
   "metadata": {},
   "outputs": [],
   "source": [
    "# First list.\n",
    "L1 = ['a', 'ab', 'bba']"
   ]
  },
  {
   "cell_type": "code",
   "execution_count": 30,
   "id": "a99f1c91",
   "metadata": {},
   "outputs": [],
   "source": [
    "# Second list.\n",
    "L2 = ['baa', 'aa', 'bb']"
   ]
  },
  {
   "cell_type": "code",
   "execution_count": 31,
   "id": "b931f77e",
   "metadata": {},
   "outputs": [],
   "source": [
    "# A proposed solution.\n",
    "S = [2, 1, 2, 0]"
   ]
  },
  {
   "cell_type": "code",
   "execution_count": 32,
   "id": "89ed6dc1",
   "metadata": {},
   "outputs": [
    {
     "data": {
      "text/plain": [
       "'bbaabbbaa'"
      ]
     },
     "execution_count": 32,
     "metadata": {},
     "output_type": "execute_result"
    }
   ],
   "source": [
    "# Apply S to L1.\n",
    "'bba' + 'ab' + 'bba' + 'a'"
   ]
  },
  {
   "cell_type": "code",
   "execution_count": 33,
   "id": "0420f00f",
   "metadata": {},
   "outputs": [
    {
     "data": {
      "text/plain": [
       "'bbaabbbaa'"
      ]
     },
     "execution_count": 33,
     "metadata": {},
     "output_type": "execute_result"
    }
   ],
   "source": [
    "# Apply S to L2.\n",
    "'bb' + 'aa' + 'bb' + 'baa'"
   ]
  },
  {
   "cell_type": "markdown",
   "id": "af6f2864",
   "metadata": {},
   "source": [
    "So, `L1` corresponds to `L2`."
   ]
  },
  {
   "cell_type": "code",
   "execution_count": 34,
   "id": "6a381604",
   "metadata": {},
   "outputs": [],
   "source": [
    "# Apply the proposed solution to a tuple.\n",
    "def apply(S, L):\n",
    "    S_on_L = [L[i] for i in S]\n",
    "    return ''.join(S_on_L)"
   ]
  },
  {
   "cell_type": "code",
   "execution_count": 35,
   "id": "5056a700",
   "metadata": {},
   "outputs": [
    {
     "data": {
      "text/plain": [
       "'bbaabbbaa'"
      ]
     },
     "execution_count": 35,
     "metadata": {},
     "output_type": "execute_result"
    }
   ],
   "source": [
    "# Apply S to L1.\n",
    "apply(S, L1)"
   ]
  },
  {
   "cell_type": "code",
   "execution_count": 36,
   "id": "6e61a68b",
   "metadata": {},
   "outputs": [
    {
     "data": {
      "text/plain": [
       "[2, 1, 2, 0]"
      ]
     },
     "execution_count": 36,
     "metadata": {},
     "output_type": "execute_result"
    }
   ],
   "source": [
    "S"
   ]
  },
  {
   "cell_type": "code",
   "execution_count": 37,
   "id": "e0a147a3",
   "metadata": {},
   "outputs": [
    {
     "data": {
      "text/plain": [
       "['a', 'ab', 'bba']"
      ]
     },
     "execution_count": 37,
     "metadata": {},
     "output_type": "execute_result"
    }
   ],
   "source": [
    "L1"
   ]
  },
  {
   "cell_type": "code",
   "execution_count": 38,
   "id": "08fab996",
   "metadata": {},
   "outputs": [
    {
     "data": {
      "text/plain": [
       "['bba', 'ab', 'bba', 'a']"
      ]
     },
     "execution_count": 38,
     "metadata": {},
     "output_type": "execute_result"
    }
   ],
   "source": [
    "[L1[i] for i in S]"
   ]
  },
  {
   "cell_type": "code",
   "execution_count": 39,
   "id": "26338d97",
   "metadata": {},
   "outputs": [
    {
     "data": {
      "text/plain": [
       "'oneJOINtwoJOINthree'"
      ]
     },
     "execution_count": 39,
     "metadata": {},
     "output_type": "execute_result"
    }
   ],
   "source": [
    "'JOIN'.join(['one', 'two', 'three'])"
   ]
  },
  {
   "cell_type": "code",
   "execution_count": 40,
   "id": "772a59cc",
   "metadata": {},
   "outputs": [
    {
     "data": {
      "text/plain": [
       "'bbaabbbaa'"
      ]
     },
     "execution_count": 40,
     "metadata": {},
     "output_type": "execute_result"
    }
   ],
   "source": [
    "apply(S, L1)"
   ]
  },
  {
   "cell_type": "code",
   "execution_count": 41,
   "id": "c9f522fc",
   "metadata": {},
   "outputs": [
    {
     "data": {
      "text/plain": [
       "'bbaabbbaa'"
      ]
     },
     "execution_count": 41,
     "metadata": {},
     "output_type": "execute_result"
    }
   ],
   "source": [
    "# Apply S to L2.\n",
    "apply(S, L2)"
   ]
  },
  {
   "cell_type": "code",
   "execution_count": 42,
   "id": "8f5aee2e",
   "metadata": {},
   "outputs": [
    {
     "data": {
      "text/plain": [
       "True"
      ]
     },
     "execution_count": 42,
     "metadata": {},
     "output_type": "execute_result"
    }
   ],
   "source": [
    "# Get Python to check if the proposed solution is a solution.\n",
    "apply(S, L1) == apply(S, L2)"
   ]
  },
  {
   "cell_type": "code",
   "execution_count": 43,
   "id": "73433994",
   "metadata": {},
   "outputs": [
    {
     "data": {
      "text/plain": [
       "'bbaabbbaabbaabbbaa'"
      ]
     },
     "execution_count": 43,
     "metadata": {},
     "output_type": "execute_result"
    }
   ],
   "source": [
    "# Another solution - there are infinitely many.\n",
    "apply([2, 1, 2, 0, 2, 1, 2, 0], L1)"
   ]
  },
  {
   "cell_type": "code",
   "execution_count": 44,
   "id": "5fb3a2f7",
   "metadata": {},
   "outputs": [
    {
     "data": {
      "text/plain": [
       "'bbaabbbaabbaabbbaa'"
      ]
     },
     "execution_count": 44,
     "metadata": {},
     "output_type": "execute_result"
    }
   ],
   "source": [
    "apply([2, 1, 2, 0, 2, 1, 2, 0], L2)"
   ]
  },
  {
   "cell_type": "markdown",
   "id": "1ff73ebe",
   "metadata": {},
   "source": [
    "### No Correspondence\n",
    "***"
   ]
  },
  {
   "cell_type": "code",
   "execution_count": 45,
   "id": "2ef686a3",
   "metadata": {},
   "outputs": [],
   "source": [
    "L1 = ['ab', 'bba']"
   ]
  },
  {
   "cell_type": "code",
   "execution_count": 46,
   "id": "0042dd5c",
   "metadata": {},
   "outputs": [],
   "source": [
    "L2 = ['aa', 'bb']"
   ]
  },
  {
   "cell_type": "code",
   "execution_count": 47,
   "id": "8b794758",
   "metadata": {},
   "outputs": [],
   "source": [
    "#S = ?"
   ]
  },
  {
   "cell_type": "code",
   "execution_count": 48,
   "id": "c474a7ae",
   "metadata": {},
   "outputs": [],
   "source": [
    "# possibles = ((0,), (1,), (0,0), (0, 1), (1, 0), (1,1), (0,0,0), (0,0,1), (0,1,0), ...)"
   ]
  },
  {
   "cell_type": "markdown",
   "id": "17f465c0",
   "metadata": {},
   "source": [
    "$$ (L_1, L_2) \\rightarrow \\{True, False\\} \\qquad |L_1| = |L_2| $$"
   ]
  },
  {
   "cell_type": "markdown",
   "id": "a7533608",
   "metadata": {},
   "source": [
    "### Bounded PCP\n",
    "https://en.wikipedia.org/wiki/Post_correspondence_problem#:~:text=One%20of%20the%20most%20important,the%20problem%20is%20NP%2Dcomplete.\n",
    "***"
   ]
  },
  {
   "cell_type": "markdown",
   "id": "deeff4e2-52c3-4eac-a503-32fd259276d3",
   "metadata": {},
   "source": [
    "The bounded post correspondence problem focuses on finding a match using no more than 'k' tiles ('k' is just how many tiles can be used), including repeated tiles. A brute force search solves the problem in time O(2K). It is difficult to improve the time of the search as bounded PCP is a NP-complete problem. An NP-complete problem means it is a yes/no problem."
   ]
  },
  {
   "cell_type": "markdown",
   "id": "fbbbb4fd-0819-426b-81a5-aa3a9acebe1d",
   "metadata": {},
   "source": [
    "<img src=\"https://i.stack.imgur.com/4OPJO.png\" width=500 height=200 />\n"
   ]
  },
  {
   "cell_type": "markdown",
   "id": "2dff3ff9-40cb-4d79-bd69-8621d93e37be",
   "metadata": {},
   "source": [
    "If someone can solve the polynomial-time algorithim to return 0% false positives and 0% false negatives then any problem in NP could be solved in deterministic-polynomial time. So far no one has solved it or proved it is not possible but if someone could solve it or prove it is not possible they would be rewarded $1 million."
   ]
  },
  {
   "cell_type": "markdown",
   "id": "f29353b6",
   "metadata": {},
   "source": [
    "$$ |S| \\leq K \\qquad K \\in \\mathbb{N} $$"
   ]
  },
  {
   "cell_type": "code",
   "execution_count": 49,
   "id": "6901fa1e",
   "metadata": {},
   "outputs": [],
   "source": [
    "L1 = ['aa', 'bba']"
   ]
  },
  {
   "cell_type": "code",
   "execution_count": 50,
   "id": "f7ef8778",
   "metadata": {},
   "outputs": [],
   "source": [
    "L2 = ['aa', 'bb']"
   ]
  },
  {
   "cell_type": "code",
   "execution_count": 51,
   "id": "75aaafb0",
   "metadata": {},
   "outputs": [],
   "source": [
    "#Compare elemnts in a list \n",
    "def bpcp_solver(L1, L2, K):\n",
    "    if L1[K] == L2[K]:\n",
    "        return True\n",
    "    else:\n",
    "        return False"
   ]
  },
  {
   "cell_type": "code",
   "execution_count": 52,
   "id": "55e99088",
   "metadata": {},
   "outputs": [
    {
     "data": {
      "text/plain": [
       "False"
      ]
     },
     "execution_count": 52,
     "metadata": {},
     "output_type": "execute_result"
    }
   ],
   "source": [
    "bpcp_solver(L1, L2, 1)"
   ]
  },
  {
   "cell_type": "markdown",
   "id": "b459a45c",
   "metadata": {},
   "source": [
    "## Itertools\n",
    "https://realpython.com/python-itertools/\n",
    "***"
   ]
  },
  {
   "cell_type": "code",
   "execution_count": 53,
   "id": "0d82bd33",
   "metadata": {},
   "outputs": [],
   "source": [
    "# A very useful module in the Python standard library.\n",
    "import itertools as it"
   ]
  },
  {
   "cell_type": "code",
   "execution_count": 54,
   "id": "555d303f",
   "metadata": {},
   "outputs": [
    {
     "data": {
      "text/plain": [
       "[('A', 'B', 'C'),\n",
       " ('A', 'C', 'B'),\n",
       " ('B', 'A', 'C'),\n",
       " ('B', 'C', 'A'),\n",
       " ('C', 'A', 'B'),\n",
       " ('C', 'B', 'A')]"
      ]
     },
     "execution_count": 54,
     "metadata": {},
     "output_type": "execute_result"
    }
   ],
   "source": [
    "# Permutations.\n",
    "list(it.permutations('ABC'))"
   ]
  },
  {
   "cell_type": "code",
   "execution_count": 55,
   "id": "7de5f400",
   "metadata": {},
   "outputs": [
    {
     "data": {
      "text/plain": [
       "[('A', 'B'), ('A', 'C'), ('B', 'C')]"
      ]
     },
     "execution_count": 55,
     "metadata": {},
     "output_type": "execute_result"
    }
   ],
   "source": [
    "list(it.combinations('ABC', 2))"
   ]
  },
  {
   "cell_type": "code",
   "execution_count": 56,
   "id": "82df6c3c",
   "metadata": {},
   "outputs": [
    {
     "data": {
      "text/plain": [
       "[('A', 'A'),\n",
       " ('A', 'B'),\n",
       " ('A', 'C'),\n",
       " ('A', 'D'),\n",
       " ('B', 'A'),\n",
       " ('B', 'B'),\n",
       " ('B', 'C'),\n",
       " ('B', 'D'),\n",
       " ('C', 'A'),\n",
       " ('C', 'B'),\n",
       " ('C', 'C'),\n",
       " ('C', 'D'),\n",
       " ('D', 'A'),\n",
       " ('D', 'B'),\n",
       " ('D', 'C'),\n",
       " ('D', 'D')]"
      ]
     },
     "execution_count": 56,
     "metadata": {},
     "output_type": "execute_result"
    }
   ],
   "source": [
    "list(it.product('ABCD', 'ABCD'))"
   ]
  },
  {
   "cell_type": "code",
   "execution_count": 57,
   "id": "277ae7a8",
   "metadata": {},
   "outputs": [
    {
     "data": {
      "text/plain": [
       "[(0, 0, 0),\n",
       " (0, 0, 1),\n",
       " (0, 1, 0),\n",
       " (0, 1, 1),\n",
       " (1, 0, 0),\n",
       " (1, 0, 1),\n",
       " (1, 1, 0),\n",
       " (1, 1, 1)]"
      ]
     },
     "execution_count": 57,
     "metadata": {},
     "output_type": "execute_result"
    }
   ],
   "source": [
    "list(it.product(range(len(L1)), range(len(L1)), range(len(L1))))"
   ]
  },
  {
   "cell_type": "code",
   "execution_count": 58,
   "id": "7203ac82",
   "metadata": {},
   "outputs": [
    {
     "name": "stdout",
     "output_type": "stream",
     "text": [
      "(0,)\n",
      "(1,)\n",
      "(0, 0)\n",
      "(0, 1)\n",
      "(1, 0)\n",
      "(1, 1)\n",
      "(0, 0, 0)\n",
      "(0, 0, 1)\n",
      "(0, 1, 0)\n",
      "(0, 1, 1)\n",
      "(1, 0, 0)\n",
      "(1, 0, 1)\n",
      "(1, 1, 0)\n",
      "(1, 1, 1)\n",
      "(0, 0, 0, 0)\n",
      "(0, 0, 0, 1)\n",
      "(0, 0, 1, 0)\n",
      "(0, 0, 1, 1)\n",
      "(0, 1, 0, 0)\n",
      "(0, 1, 0, 1)\n",
      "(0, 1, 1, 0)\n",
      "(0, 1, 1, 1)\n",
      "(1, 0, 0, 0)\n",
      "(1, 0, 0, 1)\n",
      "(1, 0, 1, 0)\n",
      "(1, 0, 1, 1)\n",
      "(1, 1, 0, 0)\n",
      "(1, 1, 0, 1)\n",
      "(1, 1, 1, 0)\n",
      "(1, 1, 1, 1)\n"
     ]
    }
   ],
   "source": [
    "# The bound for the bounded problem.\n",
    "K = 4\n",
    "\n",
    "# The generators.\n",
    "gens = []\n",
    "\n",
    "# Loop through all possible solutions.\n",
    "for i in range(1, K + 1):\n",
    "    # Create a generator for solutions of length i, append it to gens.\n",
    "    gens.append(it.product(*([range(len(L1))] * i)))\n",
    "\n",
    "# it.chain just chains generators together.\n",
    "for solution in it.chain(*gens):\n",
    "  print(solution)"
   ]
  },
  {
   "cell_type": "code",
   "execution_count": 59,
   "id": "0a165fa1",
   "metadata": {},
   "outputs": [
    {
     "name": "stdout",
     "output_type": "stream",
     "text": [
      "[1, 2, 3]\n"
     ]
    }
   ],
   "source": [
    "# Print a list of three elements.\n",
    "print([1,2,3])"
   ]
  },
  {
   "cell_type": "code",
   "execution_count": 60,
   "id": "e3af9607",
   "metadata": {},
   "outputs": [
    {
     "name": "stdout",
     "output_type": "stream",
     "text": [
      "1 2 3\n"
     ]
    }
   ],
   "source": [
    "# Print the elements of the list - print gets three parameters/arguments.\n",
    "print(*[1,2,3])"
   ]
  },
  {
   "cell_type": "markdown",
   "id": "e805492e",
   "metadata": {},
   "source": [
    "***\n",
    "## End"
   ]
  }
 ],
 "metadata": {
  "kernelspec": {
   "display_name": "Python 3 (ipykernel)",
   "language": "python",
   "name": "python3"
  },
  "language_info": {
   "codemirror_mode": {
    "name": "ipython",
    "version": 3
   },
   "file_extension": ".py",
   "mimetype": "text/x-python",
   "name": "python",
   "nbconvert_exporter": "python",
   "pygments_lexer": "ipython3",
   "version": "3.8.12"
  }
 },
 "nbformat": 4,
 "nbformat_minor": 5
}
