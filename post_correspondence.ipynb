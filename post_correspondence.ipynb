{
 "cells": [
  {
   "cell_type": "markdown",
   "id": "5ed84cf0",
   "metadata": {},
   "source": [
    "### Post Correspondence Problem\n",
    "    \n",
    "https://en.wikipedia.org/wiki/Post_correspondence_problem\n",
    "\n",
    "https://www.youtube.com/watch?v=VZNN1OGoqr8&t=195s\n",
    "\n",
    "https://galwaymayoinstitute-my.sharepoint.com/personal/ian_mcloughlin_gmit_ie/_layouts/15/onedrive.aspx?id=%2Fpersonal%2Fian%5Fmcloughlin%5Fgmit%5Fie%2FDocuments%2Fshare%5Fstudents%2Fsipser%2Dpcp%2Epdf&parent=%2Fpersonal%2Fian%5Fmcloughlin%5Fgmit%5Fie%2FDocuments%2Fshare%5Fstudents&ga=1\n",
    "***"
   ]
  },
  {
   "cell_type": "markdown",
   "id": "28a2b957",
   "metadata": {},
   "source": [
    "The post correspondence problem is an undecidable decision problem that was introduced by Emil Post in 1946. The problem is undecidable because sometimes it might give you a matching answer but sometimes it runs for ever and does not give you a proper answer.\n",
    "This problem can be described as a type of puzzle and can be explained using a set of dominoes containing two strings. The dominos contains a string at the top and at the bottom."
   ]
  },
  {
   "cell_type": "markdown",
   "id": "bc2356c8",
   "metadata": {},
   "source": [
    "$ \\frac{a}{ab} $"
   ]
  },
  {
   "cell_type": "markdown",
   "id": "42b14b2e",
   "metadata": {},
   "source": [
    "The goal is to organise a collecction of dominoes and to check if the top line of strings matches to the bottom one, you are also allowed to use the same domino multiple times"
   ]
  },
  {
   "cell_type": "markdown",
   "id": "5b1582c6",
   "metadata": {},
   "source": [
    "Here is an example of a collection that does match \n",
    "\n",
    "$ \\frac{a}{ab} \\frac{b}{ca} \\frac{ca}{a} \\frac{a}{ab} \\frac{abc}{c}$\n",
    "\n",
    "So that means this PCP is decidable"
   ]
  },
  {
   "cell_type": "markdown",
   "id": "bd34dc0c",
   "metadata": {},
   "source": [
    "Here is an example of a collection that does not match\n",
    "\n",
    "$ \\frac{abc}{ab} \\frac{ca}{a} \\frac{acc}{ba} $\n"
   ]
  },
  {
   "cell_type": "markdown",
   "id": "197f2f21",
   "metadata": {},
   "source": [
    "So from the example you can see that in the second collection of dominos the PCP is undecidable as the top row string is 'A B C C A A C C' and the bottom string in the bottom row shows 'A B A B A' both strings are different lengths meaning they don't match. "
   ]
  },
  {
   "cell_type": "markdown",
   "id": "6500ea3f-eb20-4db0-b167-989ae1bf08b7",
   "metadata": {},
   "source": [
    "Some times a problem is never ending and there might be a character always left at the end of the top or bottom string making it an undecidable problem. Below you can see an example of a set of dominos that does not match no matter how many times you reuse a domino or what way you try to order them."
   ]
  },
  {
   "cell_type": "markdown",
   "id": "27d4d23b-607b-41f4-820a-69ea5dc1331e",
   "metadata": {},
   "source": [
    "$ \\frac{ab}{aba} \\frac{baa}{aa} \\frac{aba}{baa} $"
   ]
  },
  {
   "cell_type": "markdown",
   "id": "e6aa2c88-52d9-4f26-9b95-e9e944f35476",
   "metadata": {},
   "source": [
    "For example the above set would be ordered as"
   ]
  },
  {
   "cell_type": "markdown",
   "id": "adb72be0-b58e-4c16-8fce-606fea70b197",
   "metadata": {},
   "source": [
    "$ \\frac{ababaabaaba}{ababaabaabaa} $"
   ]
  },
  {
   "cell_type": "markdown",
   "id": "7b10bebf-e811-4c9e-b8a4-d05a73fd925f",
   "metadata": {},
   "source": [
    "As you can see there is always an 'a' left at the end of the bottom row no matter what way you try to organise the dominos there will always be an 'a' there causing it to be undecidable. This would cause the algorithim to run forever."
   ]
  },
  {
   "cell_type": "markdown",
   "id": "533de4ce",
   "metadata": {},
   "source": [
    "## Sets\n",
    "https://docs.python.org/3/tutorial/datastructures.html#sets\n",
    "***"
   ]
  },
  {
   "cell_type": "code",
   "execution_count": 1,
   "id": "25450785",
   "metadata": {},
   "outputs": [],
   "source": [
    "# Alphabet for strings: a set.\n",
    "A = {'a', 'b'}"
   ]
  },
  {
   "cell_type": "code",
   "execution_count": 2,
   "id": "ad3029fc",
   "metadata": {},
   "outputs": [
    {
     "data": {
      "text/plain": [
       "set"
      ]
     },
     "execution_count": 2,
     "metadata": {},
     "output_type": "execute_result"
    }
   ],
   "source": [
    "# Curly braces are often used for sets.\n",
    "type(A)"
   ]
  },
  {
   "cell_type": "code",
   "execution_count": 3,
   "id": "fd31e8c8",
   "metadata": {},
   "outputs": [
    {
     "data": {
      "text/plain": [
       "True"
      ]
     },
     "execution_count": 3,
     "metadata": {},
     "output_type": "execute_result"
    }
   ],
   "source": [
    "# Sets are unordered.\n",
    "{'a', 'b'} == {'b', 'a'}"
   ]
  },
  {
   "cell_type": "code",
   "execution_count": 4,
   "id": "994c816a",
   "metadata": {},
   "outputs": [
    {
     "data": {
      "text/plain": [
       "False"
      ]
     },
     "execution_count": 4,
     "metadata": {},
     "output_type": "execute_result"
    }
   ],
   "source": [
    "# FYI, order does matter for lists.\n",
    "['a', 'b'] == ['b', 'a']"
   ]
  },
  {
   "cell_type": "code",
   "execution_count": 5,
   "id": "f12e5253",
   "metadata": {},
   "outputs": [
    {
     "data": {
      "text/plain": [
       "{1, 2, 3}"
      ]
     },
     "execution_count": 5,
     "metadata": {},
     "output_type": "execute_result"
    }
   ],
   "source": [
    "# Using the set() function to create a set from a list.\n",
    "set([1,2,3])"
   ]
  },
  {
   "cell_type": "code",
   "execution_count": 6,
   "id": "8c26614a",
   "metadata": {},
   "outputs": [
    {
     "data": {
      "text/plain": [
       "{1, 2, 3}"
      ]
     },
     "execution_count": 6,
     "metadata": {},
     "output_type": "execute_result"
    }
   ],
   "source": [
    "# Sets don't keep count.\n",
    "set([3, 2, 2, 1])"
   ]
  },
  {
   "cell_type": "code",
   "execution_count": 7,
   "id": "8a1d70f0",
   "metadata": {},
   "outputs": [
    {
     "data": {
      "text/plain": [
       "True"
      ]
     },
     "execution_count": 7,
     "metadata": {},
     "output_type": "execute_result"
    }
   ],
   "source": [
    "# Test whether or not an item is in the set.\n",
    "1 in {1, 2, 3}"
   ]
  },
  {
   "cell_type": "code",
   "execution_count": 8,
   "id": "ae28141a",
   "metadata": {},
   "outputs": [
    {
     "data": {
      "text/plain": [
       "False"
      ]
     },
     "execution_count": 8,
     "metadata": {},
     "output_type": "execute_result"
    }
   ],
   "source": [
    "'a' in {1, 2, 3}"
   ]
  },
  {
   "cell_type": "markdown",
   "id": "ba9263c7",
   "metadata": {},
   "source": [
    "When a set is defined, it gives rise to a decision problem.\n",
    "\n",
    "The decision problem is: is a given item in the set?"
   ]
  },
  {
   "cell_type": "markdown",
   "id": "4e490904",
   "metadata": {},
   "source": [
    "## The Problem\n",
    "\n",
    "***"
   ]
  },
  {
   "cell_type": "code",
   "execution_count": 9,
   "id": "109ee4ee",
   "metadata": {},
   "outputs": [],
   "source": [
    "A = {'a', 'b'}"
   ]
  },
  {
   "cell_type": "code",
   "execution_count": 10,
   "id": "1a04aecc",
   "metadata": {},
   "outputs": [],
   "source": [
    "# First list.\n",
    "L1 = ['a', 'ab', 'bba']"
   ]
  },
  {
   "cell_type": "code",
   "execution_count": 11,
   "id": "a99f1c91",
   "metadata": {},
   "outputs": [],
   "source": [
    "# Second list.\n",
    "L2 = ['baa', 'aa', 'bb']"
   ]
  },
  {
   "cell_type": "code",
   "execution_count": 12,
   "id": "b931f77e",
   "metadata": {},
   "outputs": [],
   "source": [
    "# A proposed solution.\n",
    "S = [2, 1, 2, 0]"
   ]
  },
  {
   "cell_type": "code",
   "execution_count": 13,
   "id": "89ed6dc1",
   "metadata": {},
   "outputs": [
    {
     "data": {
      "text/plain": [
       "'bbaabbbaa'"
      ]
     },
     "execution_count": 13,
     "metadata": {},
     "output_type": "execute_result"
    }
   ],
   "source": [
    "# Apply S to L1.\n",
    "'bba' + 'ab' + 'bba' + 'a'"
   ]
  },
  {
   "cell_type": "code",
   "execution_count": 14,
   "id": "0420f00f",
   "metadata": {},
   "outputs": [
    {
     "data": {
      "text/plain": [
       "'bbaabbbaa'"
      ]
     },
     "execution_count": 14,
     "metadata": {},
     "output_type": "execute_result"
    }
   ],
   "source": [
    "# Apply S to L2.\n",
    "'bb' + 'aa' + 'bb' + 'baa'"
   ]
  },
  {
   "cell_type": "markdown",
   "id": "af6f2864",
   "metadata": {},
   "source": [
    "So, `L1` corresponds to `L2`."
   ]
  },
  {
   "cell_type": "code",
   "execution_count": 15,
   "id": "6a381604",
   "metadata": {},
   "outputs": [],
   "source": [
    "# Apply the proposed solution to a tuple.\n",
    "def apply(S, L):\n",
    "    S_on_L = [L[i] for i in S]\n",
    "    return ''.join(S_on_L)"
   ]
  },
  {
   "cell_type": "code",
   "execution_count": 16,
   "id": "5056a700",
   "metadata": {},
   "outputs": [
    {
     "data": {
      "text/plain": [
       "'bbaabbbaa'"
      ]
     },
     "execution_count": 16,
     "metadata": {},
     "output_type": "execute_result"
    }
   ],
   "source": [
    "# Apply S to L1.\n",
    "apply(S, L1)"
   ]
  },
  {
   "cell_type": "code",
   "execution_count": 17,
   "id": "6e61a68b",
   "metadata": {},
   "outputs": [
    {
     "data": {
      "text/plain": [
       "[2, 1, 2, 0]"
      ]
     },
     "execution_count": 17,
     "metadata": {},
     "output_type": "execute_result"
    }
   ],
   "source": [
    "S"
   ]
  },
  {
   "cell_type": "code",
   "execution_count": 18,
   "id": "e0a147a3",
   "metadata": {},
   "outputs": [
    {
     "data": {
      "text/plain": [
       "['a', 'ab', 'bba']"
      ]
     },
     "execution_count": 18,
     "metadata": {},
     "output_type": "execute_result"
    }
   ],
   "source": [
    "L1"
   ]
  },
  {
   "cell_type": "code",
   "execution_count": 19,
   "id": "08fab996",
   "metadata": {},
   "outputs": [
    {
     "data": {
      "text/plain": [
       "['bba', 'ab', 'bba', 'a']"
      ]
     },
     "execution_count": 19,
     "metadata": {},
     "output_type": "execute_result"
    }
   ],
   "source": [
    "[L1[i] for i in S]"
   ]
  },
  {
   "cell_type": "code",
   "execution_count": 20,
   "id": "26338d97",
   "metadata": {},
   "outputs": [
    {
     "data": {
      "text/plain": [
       "'oneJOINtwoJOINthree'"
      ]
     },
     "execution_count": 20,
     "metadata": {},
     "output_type": "execute_result"
    }
   ],
   "source": [
    "'JOIN'.join(['one', 'two', 'three'])"
   ]
  },
  {
   "cell_type": "code",
   "execution_count": 21,
   "id": "772a59cc",
   "metadata": {},
   "outputs": [
    {
     "data": {
      "text/plain": [
       "'bbaabbbaa'"
      ]
     },
     "execution_count": 21,
     "metadata": {},
     "output_type": "execute_result"
    }
   ],
   "source": [
    "apply(S, L1)"
   ]
  },
  {
   "cell_type": "code",
   "execution_count": 22,
   "id": "c9f522fc",
   "metadata": {},
   "outputs": [
    {
     "data": {
      "text/plain": [
       "'bbaabbbaa'"
      ]
     },
     "execution_count": 22,
     "metadata": {},
     "output_type": "execute_result"
    }
   ],
   "source": [
    "# Apply S to L2.\n",
    "apply(S, L2)"
   ]
  },
  {
   "cell_type": "code",
   "execution_count": 23,
   "id": "8f5aee2e",
   "metadata": {},
   "outputs": [
    {
     "data": {
      "text/plain": [
       "True"
      ]
     },
     "execution_count": 23,
     "metadata": {},
     "output_type": "execute_result"
    }
   ],
   "source": [
    "# Get Python to check if the proposed solution is a solution.\n",
    "apply(S, L1) == apply(S, L2)"
   ]
  },
  {
   "cell_type": "code",
   "execution_count": 24,
   "id": "73433994",
   "metadata": {},
   "outputs": [
    {
     "data": {
      "text/plain": [
       "'bbaabbbaabbaabbbaa'"
      ]
     },
     "execution_count": 24,
     "metadata": {},
     "output_type": "execute_result"
    }
   ],
   "source": [
    "# Another solution - there are infinitely many.\n",
    "apply([2, 1, 2, 0, 2, 1, 2, 0], L1)"
   ]
  },
  {
   "cell_type": "code",
   "execution_count": 25,
   "id": "5fb3a2f7",
   "metadata": {},
   "outputs": [
    {
     "data": {
      "text/plain": [
       "'bbaabbbaabbaabbbaa'"
      ]
     },
     "execution_count": 25,
     "metadata": {},
     "output_type": "execute_result"
    }
   ],
   "source": [
    "apply([2, 1, 2, 0, 2, 1, 2, 0], L2)"
   ]
  },
  {
   "cell_type": "markdown",
   "id": "1ff73ebe",
   "metadata": {},
   "source": [
    "### No Correspondence\n",
    "***"
   ]
  },
  {
   "cell_type": "code",
   "execution_count": 26,
   "id": "2ef686a3",
   "metadata": {},
   "outputs": [],
   "source": [
    "L1 = ['ab', 'bba']"
   ]
  },
  {
   "cell_type": "code",
   "execution_count": 27,
   "id": "0042dd5c",
   "metadata": {},
   "outputs": [],
   "source": [
    "L2 = ['aa', 'bb']"
   ]
  },
  {
   "cell_type": "code",
   "execution_count": 28,
   "id": "8b794758",
   "metadata": {},
   "outputs": [],
   "source": [
    "#S = ?"
   ]
  },
  {
   "cell_type": "code",
   "execution_count": 29,
   "id": "c474a7ae",
   "metadata": {},
   "outputs": [],
   "source": [
    "# possibles = ((0,), (1,), (0,0), (0, 1), (1, 0), (1,1), (0,0,0), (0,0,1), (0,1,0), ...)"
   ]
  },
  {
   "cell_type": "markdown",
   "id": "17f465c0",
   "metadata": {},
   "source": [
    "$$ (L_1, L_2) \\rightarrow \\{True, False\\} \\qquad |L_1| = |L_2| $$"
   ]
  },
  {
   "cell_type": "markdown",
   "id": "a7533608",
   "metadata": {},
   "source": [
    "### Bounded PCP\n",
    "https://en.wikipedia.org/wiki/Post_correspondence_problem#:~:text=One%20of%20the%20most%20important,the%20problem%20is%20NP%2Dcomplete.\n",
    "https://en.wikipedia.org/wiki/P_versus_NP_problem\n",
    "***"
   ]
  },
  {
   "cell_type": "markdown",
   "id": "deeff4e2-52c3-4eac-a503-32fd259276d3",
   "metadata": {},
   "source": [
    "The bounded post correspondence problem focuses on finding a match using no more than 'k' tiles ('k' is just how many tiles can be used), including repeated tiles. A brute force search solves the problem in time O(2K). It is difficult to improve the time of the search as bounded PCP is a NP-complete problem. An NP-complete problem means it is a yes/no problem. An np problem asks whether every problem whose solution can be quickly verified can also be solved quickly."
   ]
  },
  {
   "cell_type": "markdown",
   "id": "fbbbb4fd-0819-426b-81a5-aa3a9acebe1d",
   "metadata": {},
   "source": [
    "With bounded PCP you are able to select the number of tiles so from the dominoes below you could select 2 for example and compare the bottom and top string to see if it matches\n",
    "\n",
    "<img src=\"https://i.stack.imgur.com/4OPJO.png\" width=300 height=100 />"
   ]
  },
  {
   "cell_type": "markdown",
   "id": "2dff3ff9-40cb-4d79-bd69-8621d93e37be",
   "metadata": {},
   "source": [
    "If someone can solve the polynomial-time algorithim to return 0% false positives and 0% false negatives then any problem in NP could be solved in deterministic-polynomial time. So far no one has solved it or proved it is not possible but if someone could solve it or prove it is not possible they would be rewarded $1 million."
   ]
  },
  {
   "cell_type": "markdown",
   "id": "f29353b6",
   "metadata": {},
   "source": [
    "$$ |S| \\leq K \\qquad K \\in \\mathbb{N} $$"
   ]
  },
  {
   "cell_type": "code",
   "execution_count": 81,
   "id": "6901fa1e",
   "metadata": {},
   "outputs": [],
   "source": [
    "# First List\n",
    "L1 = ['aa', 'bba']"
   ]
  },
  {
   "cell_type": "code",
   "execution_count": 82,
   "id": "f7ef8778",
   "metadata": {},
   "outputs": [],
   "source": [
    "# Second List\n",
    "L2 = ['aa', 'bb'] "
   ]
  },
  {
   "cell_type": "code",
   "execution_count": 83,
   "id": "75aaafb0",
   "metadata": {},
   "outputs": [],
   "source": [
    "# Compare elemnts in a list \n",
    "def bpcp_solver(List1, List2, K):\n",
    "    top = List1[0:K]\n",
    "    print(top)\n",
    "    bottom = List2[0:K]\n",
    "    print(bottom)\n",
    "    if top == bottom:\n",
    "        return True\n",
    "    elif top != bottom and K <= len(L1) or K <= len(L2):\n",
    "        return False\n",
    "    elif K > len(L1) or K > len(L2):\n",
    "        print(\"List of Length K does not exist\")\n"
   ]
  },
  {
   "cell_type": "code",
   "execution_count": 84,
   "id": "55e99088",
   "metadata": {},
   "outputs": [
    {
     "name": "stdout",
     "output_type": "stream",
     "text": [
      "['aa', 'bba']\n",
      "['aa', 'bb']\n",
      "List of Length K does not exist\n"
     ]
    }
   ],
   "source": [
    "bpcp_solver(L1, L2, 4)"
   ]
  },
  {
   "cell_type": "markdown",
   "id": "83aa0b0f-f075-45e7-87f0-ef11ae1ec5ee",
   "metadata": {},
   "source": [
    "### What is an undecidable problem?\n",
    "https://en.wikipedia.org/wiki/Undecidable_problem\n",
    "***"
   ]
  },
  {
   "cell_type": "markdown",
   "id": "1b5d9893-eddf-4050-8225-d14f7ef26240",
   "metadata": {},
   "source": [
    "An undecidable problem in relation to computing and algorithims is a problem that is impossible to prove a yes or no answer to. The Post Correspondence problem is also an undecidable problem as it does not always give a yes or no answer sometimes the PCP algorithim can end up running for ever as it is not able to come to a proper solution. A programe / algorithim that can't come to a stop causes a halting problem which prevents anyone from knowing if the programme is ever going to stop or if will it keep running for ever."
   ]
  },
  {
   "cell_type": "markdown",
   "id": "f924f035-c140-4b7f-8bd8-9147fd525573",
   "metadata": {},
   "source": [
    "### Halting Problem\n",
    " https://en.wikipedia.org/wiki/Halting_problem\n",
    "***"
   ]
  },
  {
   "cell_type": "markdown",
   "id": "a81ef64f-95ec-46dc-9359-2754ff354285",
   "metadata": {},
   "source": [
    "The halting problem is a a problem that states that no programme can predict if a programme is going to come to a stop or not, and this relates to the Post Correspondence Problem as that algorithim can sometimes end up running for ever and you will never know if it is going to come to a stop/ This is why PCP can cause a halting problem."
   ]
  },
  {
   "cell_type": "markdown",
   "id": "0948ef28-8f2d-4e9c-bc2c-5b2bb1357c42",
   "metadata": {},
   "source": [
    "Program: $p$ ."
   ]
  },
  {
   "cell_type": "markdown",
   "id": "16ad5cb1-bc1d-48f4-9704-2a6f9e1d62be",
   "metadata": {},
   "source": [
    "Encoding of $p$  in binary (i.e. $p$  as a string): $\\langle p \\rangle$."
   ]
  },
  {
   "cell_type": "markdown",
   "id": "2ebf8860-357e-45a4-acba-bda7dd3c6450",
   "metadata": {},
   "source": [
    "String $x$."
   ]
  },
  {
   "cell_type": "markdown",
   "id": "6c1640ba-3933-45d4-b9c7-dbd4a50e2091",
   "metadata": {},
   "source": [
    "$H$ = {$ {\\langle p , x \\rangle \\ | \\  \\textrm{program } p \\textrm{ halts on input } x }$}"
   ]
  },
  {
   "cell_type": "markdown",
   "id": "f661ba41-1e0e-4827-b62b-cf2294ba2fb0",
   "metadata": {},
   "source": [
    "$A$: a Turing Machine that accpets all memebrs of $H$ and rejects all non-members of $H$, i.e. $A$ decides $H$."
   ]
  },
  {
   "cell_type": "markdown",
   "id": "4e198c25-a251-4ac5-b5da-5a4b80e14545",
   "metadata": {},
   "source": [
    "$B$: another Turing machine, takes an encoding $\\langle p \\rangle$ of a program $p$  and runs $A$ on $\\langle p , \\langle p \\rangle \\rangle$, accepts if and only if $A$ rejects, loops infinitely otherwise."
   ]
  },
  {
   "cell_type": "markdown",
   "id": "5bd32d31-df86-452a-8738-aaab6af4c550",
   "metadata": {},
   "source": [
    "What happens when $B$ receives $\\langle B \\rangle$ as input?"
   ]
  },
  {
   "cell_type": "markdown",
   "id": "e049b676-da0d-4850-9e88-5ed20877643f",
   "metadata": {},
   "source": [
    "Then $A$ gets called with $\\langle B, \\langle B \\rangle \\rangle$ as input."
   ]
  },
  {
   "cell_type": "markdown",
   "id": "5c4f43df-e5db-4c89-97b7-9566612bc8ce",
   "metadata": {},
   "source": [
    "Now, $A$  must either accept or reject this input (it's a decider)."
   ]
  },
  {
   "cell_type": "markdown",
   "id": "7de41c5e-d5aa-4de8-af41-2c4c32c902ad",
   "metadata": {},
   "source": [
    "If $A$ accepts: $B$ on input $\\langle B\\rangle$ halts. However, by $B$'s own definition, if $A$ accepts (which is this case), then $B$  infinitely loops with $\\langle B \\rangle$  as input. This can't happen - it's a contradiction."
   ]
  },
  {
   "cell_type": "markdown",
   "id": "7bca6f48-1c5e-4278-80a8-e1d1b924344f",
   "metadata": {},
   "source": [
    "If $A$ rejects: $B$ on input $\\langle B\\rangle$ does not halt. So, $A$ should reject $\\langle B, \\langle B \\rangle \\rangle$, so then $B$ does halt (by accepting) on input $\\langle B \\rangle$. So, again there's a contradiction."
   ]
  },
  {
   "cell_type": "markdown",
   "id": "1fbb60d5-f970-4d05-bdb4-4825af51221d",
   "metadata": {},
   "source": [
    "So, the Turing machine $A$ cannot exist."
   ]
  },
  {
   "cell_type": "markdown",
   "id": "b459a45c",
   "metadata": {},
   "source": [
    "## Itertools\n",
    "https://realpython.com/python-itertools/\n",
    "***"
   ]
  },
  {
   "cell_type": "code",
   "execution_count": 34,
   "id": "0d82bd33",
   "metadata": {},
   "outputs": [],
   "source": [
    "# A very useful module in the Python standard library.\n",
    "import itertools as it"
   ]
  },
  {
   "cell_type": "code",
   "execution_count": 35,
   "id": "555d303f",
   "metadata": {},
   "outputs": [
    {
     "data": {
      "text/plain": [
       "[('A', 'B', 'C'),\n",
       " ('A', 'C', 'B'),\n",
       " ('B', 'A', 'C'),\n",
       " ('B', 'C', 'A'),\n",
       " ('C', 'A', 'B'),\n",
       " ('C', 'B', 'A')]"
      ]
     },
     "execution_count": 35,
     "metadata": {},
     "output_type": "execute_result"
    }
   ],
   "source": [
    "# Permutations.\n",
    "list(it.permutations('ABC'))"
   ]
  },
  {
   "cell_type": "code",
   "execution_count": 36,
   "id": "7de5f400",
   "metadata": {},
   "outputs": [
    {
     "data": {
      "text/plain": [
       "[('A', 'B'), ('A', 'C'), ('B', 'C')]"
      ]
     },
     "execution_count": 36,
     "metadata": {},
     "output_type": "execute_result"
    }
   ],
   "source": [
    "list(it.combinations('ABC', 2))"
   ]
  },
  {
   "cell_type": "code",
   "execution_count": 37,
   "id": "82df6c3c",
   "metadata": {},
   "outputs": [
    {
     "data": {
      "text/plain": [
       "[('A', 'A'),\n",
       " ('A', 'B'),\n",
       " ('A', 'C'),\n",
       " ('A', 'D'),\n",
       " ('B', 'A'),\n",
       " ('B', 'B'),\n",
       " ('B', 'C'),\n",
       " ('B', 'D'),\n",
       " ('C', 'A'),\n",
       " ('C', 'B'),\n",
       " ('C', 'C'),\n",
       " ('C', 'D'),\n",
       " ('D', 'A'),\n",
       " ('D', 'B'),\n",
       " ('D', 'C'),\n",
       " ('D', 'D')]"
      ]
     },
     "execution_count": 37,
     "metadata": {},
     "output_type": "execute_result"
    }
   ],
   "source": [
    "list(it.product('ABCD', 'ABCD'))"
   ]
  },
  {
   "cell_type": "code",
   "execution_count": 38,
   "id": "277ae7a8",
   "metadata": {},
   "outputs": [
    {
     "data": {
      "text/plain": [
       "[(0, 0, 0),\n",
       " (0, 0, 1),\n",
       " (0, 1, 0),\n",
       " (0, 1, 1),\n",
       " (1, 0, 0),\n",
       " (1, 0, 1),\n",
       " (1, 1, 0),\n",
       " (1, 1, 1)]"
      ]
     },
     "execution_count": 38,
     "metadata": {},
     "output_type": "execute_result"
    }
   ],
   "source": [
    "list(it.product(range(len(L1)), range(len(L1)), range(len(L1))))"
   ]
  },
  {
   "cell_type": "code",
   "execution_count": 39,
   "id": "7203ac82",
   "metadata": {},
   "outputs": [
    {
     "name": "stdout",
     "output_type": "stream",
     "text": [
      "(0,)\n",
      "(1,)\n",
      "(0, 0)\n",
      "(0, 1)\n",
      "(1, 0)\n",
      "(1, 1)\n",
      "(0, 0, 0)\n",
      "(0, 0, 1)\n",
      "(0, 1, 0)\n",
      "(0, 1, 1)\n",
      "(1, 0, 0)\n",
      "(1, 0, 1)\n",
      "(1, 1, 0)\n",
      "(1, 1, 1)\n",
      "(0, 0, 0, 0)\n",
      "(0, 0, 0, 1)\n",
      "(0, 0, 1, 0)\n",
      "(0, 0, 1, 1)\n",
      "(0, 1, 0, 0)\n",
      "(0, 1, 0, 1)\n",
      "(0, 1, 1, 0)\n",
      "(0, 1, 1, 1)\n",
      "(1, 0, 0, 0)\n",
      "(1, 0, 0, 1)\n",
      "(1, 0, 1, 0)\n",
      "(1, 0, 1, 1)\n",
      "(1, 1, 0, 0)\n",
      "(1, 1, 0, 1)\n",
      "(1, 1, 1, 0)\n",
      "(1, 1, 1, 1)\n"
     ]
    }
   ],
   "source": [
    "# The bound for the bounded problem.\n",
    "K = 4\n",
    "\n",
    "# The generators.\n",
    "gens = []\n",
    "\n",
    "# Loop through all possible solutions.\n",
    "for i in range(1, K + 1):\n",
    "    # Create a generator for solutions of length i, append it to gens.\n",
    "    gens.append(it.product(*([range(len(L1))] * i)))\n",
    "\n",
    "# it.chain just chains generators together.\n",
    "for solution in it.chain(*gens):\n",
    "  print(solution)"
   ]
  },
  {
   "cell_type": "code",
   "execution_count": 40,
   "id": "0a165fa1",
   "metadata": {},
   "outputs": [
    {
     "name": "stdout",
     "output_type": "stream",
     "text": [
      "[1, 2, 3]\n"
     ]
    }
   ],
   "source": [
    "# Print a list of three elements.\n",
    "print([1,2,3])"
   ]
  },
  {
   "cell_type": "code",
   "execution_count": 41,
   "id": "e3af9607",
   "metadata": {},
   "outputs": [
    {
     "name": "stdout",
     "output_type": "stream",
     "text": [
      "1 2 3\n"
     ]
    }
   ],
   "source": [
    "# Print the elements of the list - print gets three parameters/arguments.\n",
    "print(*[1,2,3])"
   ]
  },
  {
   "cell_type": "markdown",
   "id": "e805492e",
   "metadata": {},
   "source": [
    "***\n",
    "## End"
   ]
  }
 ],
 "metadata": {
  "kernelspec": {
   "display_name": "Python 3 (ipykernel)",
   "language": "python",
   "name": "python3"
  },
  "language_info": {
   "codemirror_mode": {
    "name": "ipython",
    "version": 3
   },
   "file_extension": ".py",
   "mimetype": "text/x-python",
   "name": "python",
   "nbconvert_exporter": "python",
   "pygments_lexer": "ipython3",
   "version": "3.8.12"
  }
 },
 "nbformat": 4,
 "nbformat_minor": 5
}
